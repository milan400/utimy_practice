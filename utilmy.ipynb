{
  "nbformat": 4,
  "nbformat_minor": 0,
  "metadata": {
    "colab": {
      "name": "utilmy.ipynb",
      "provenance": [],
      "authorship_tag": "ABX9TyPOdmk4UZc0FGfYQKbpRv3D",
      "include_colab_link": true
    },
    "kernelspec": {
      "name": "python3",
      "display_name": "Python 3"
    },
    "language_info": {
      "name": "python"
    }
  },
  "cells": [
    {
      "cell_type": "markdown",
      "metadata": {
        "id": "view-in-github",
        "colab_type": "text"
      },
      "source": [
        "<a href=\"https://colab.research.google.com/github/milan400/utimy_practice/blob/main/utilmy.ipynb\" target=\"_parent\"><img src=\"https://colab.research.google.com/assets/colab-badge.svg\" alt=\"Open In Colab\"/></a>"
      ]
    },
    {
      "cell_type": "code",
      "metadata": {
        "colab": {
          "base_uri": "https://localhost:8080/"
        },
        "id": "slrhqehe8meE",
        "outputId": "9c44c302-3868-4119-ae7f-6b5c7414d89e"
      },
      "source": [
        "!pip install utilmy"
      ],
      "execution_count": 1,
      "outputs": [
        {
          "output_type": "stream",
          "text": [
            "Collecting utilmy\n",
            "\u001b[?25l  Downloading https://files.pythonhosted.org/packages/9c/1b/75d8e40b2112659c6267382a9b25cca6026dd171f115f6d31d6acbb1df72/utilmy-0.1.16223541-py3-none-any.whl (69kB)\n",
            "\r\u001b[K     |████▊                           | 10kB 14.8MB/s eta 0:00:01\r\u001b[K     |█████████▌                      | 20kB 20.5MB/s eta 0:00:01\r\u001b[K     |██████████████▏                 | 30kB 11.3MB/s eta 0:00:01\r\u001b[K     |███████████████████             | 40kB 8.8MB/s eta 0:00:01\r\u001b[K     |███████████████████████▊        | 51kB 5.7MB/s eta 0:00:01\r\u001b[K     |████████████████████████████▍   | 61kB 6.6MB/s eta 0:00:01\r\u001b[K     |████████████████████████████████| 71kB 3.6MB/s \n",
            "\u001b[?25hRequirement already satisfied: pyyaml in /usr/local/lib/python3.7/dist-packages (from utilmy) (3.13)\n",
            "Installing collected packages: utilmy\n",
            "Successfully installed utilmy-0.1.16223541\n"
          ],
          "name": "stdout"
        }
      ]
    },
    {
      "cell_type": "code",
      "metadata": {
        "id": "6G6H5SRG89DM"
      },
      "source": [
        " %matplotlib inline\n",
        " \n",
        " from utilmy import pd_read_file \n",
        " \n",
        " data_df = pd_read_file([\"/content/sample_data/california_housing_train*.csv\"], n_pool=4) "
      ],
      "execution_count": 56,
      "outputs": []
    },
    {
      "cell_type": "code",
      "metadata": {
        "colab": {
          "base_uri": "https://localhost:8080/",
          "height": 206
        },
        "id": "ZfmK6O_cAUcW",
        "outputId": "d447cb1f-af55-41b3-e5f1-313a1d96a96c"
      },
      "source": [
        "data_df. head()"
      ],
      "execution_count": 33,
      "outputs": [
        {
          "output_type": "execute_result",
          "data": {
            "text/html": [
              "<div>\n",
              "<style scoped>\n",
              "    .dataframe tbody tr th:only-of-type {\n",
              "        vertical-align: middle;\n",
              "    }\n",
              "\n",
              "    .dataframe tbody tr th {\n",
              "        vertical-align: top;\n",
              "    }\n",
              "\n",
              "    .dataframe thead th {\n",
              "        text-align: right;\n",
              "    }\n",
              "</style>\n",
              "<table border=\"1\" class=\"dataframe\">\n",
              "  <thead>\n",
              "    <tr style=\"text-align: right;\">\n",
              "      <th></th>\n",
              "      <th>households</th>\n",
              "      <th>housing_median_age</th>\n",
              "      <th>latitude</th>\n",
              "      <th>longitude</th>\n",
              "      <th>median_house_value</th>\n",
              "      <th>median_income</th>\n",
              "      <th>population</th>\n",
              "      <th>total_bedrooms</th>\n",
              "      <th>total_rooms</th>\n",
              "    </tr>\n",
              "  </thead>\n",
              "  <tbody>\n",
              "    <tr>\n",
              "      <th>0</th>\n",
              "      <td>472.0</td>\n",
              "      <td>15.0</td>\n",
              "      <td>34.19</td>\n",
              "      <td>-114.31</td>\n",
              "      <td>66900.0</td>\n",
              "      <td>1.4936</td>\n",
              "      <td>1015.0</td>\n",
              "      <td>1283.0</td>\n",
              "      <td>5612.0</td>\n",
              "    </tr>\n",
              "    <tr>\n",
              "      <th>1</th>\n",
              "      <td>463.0</td>\n",
              "      <td>19.0</td>\n",
              "      <td>34.40</td>\n",
              "      <td>-114.47</td>\n",
              "      <td>80100.0</td>\n",
              "      <td>1.8200</td>\n",
              "      <td>1129.0</td>\n",
              "      <td>1901.0</td>\n",
              "      <td>7650.0</td>\n",
              "    </tr>\n",
              "    <tr>\n",
              "      <th>2</th>\n",
              "      <td>117.0</td>\n",
              "      <td>17.0</td>\n",
              "      <td>33.69</td>\n",
              "      <td>-114.56</td>\n",
              "      <td>85700.0</td>\n",
              "      <td>1.6509</td>\n",
              "      <td>333.0</td>\n",
              "      <td>174.0</td>\n",
              "      <td>720.0</td>\n",
              "    </tr>\n",
              "    <tr>\n",
              "      <th>3</th>\n",
              "      <td>226.0</td>\n",
              "      <td>14.0</td>\n",
              "      <td>33.64</td>\n",
              "      <td>-114.57</td>\n",
              "      <td>73400.0</td>\n",
              "      <td>3.1917</td>\n",
              "      <td>515.0</td>\n",
              "      <td>337.0</td>\n",
              "      <td>1501.0</td>\n",
              "    </tr>\n",
              "    <tr>\n",
              "      <th>4</th>\n",
              "      <td>262.0</td>\n",
              "      <td>20.0</td>\n",
              "      <td>33.57</td>\n",
              "      <td>-114.57</td>\n",
              "      <td>65500.0</td>\n",
              "      <td>1.9250</td>\n",
              "      <td>624.0</td>\n",
              "      <td>326.0</td>\n",
              "      <td>1454.0</td>\n",
              "    </tr>\n",
              "  </tbody>\n",
              "</table>\n",
              "</div>"
            ],
            "text/plain": [
              "   households  housing_median_age  ...  total_bedrooms  total_rooms\n",
              "0       472.0                15.0  ...          1283.0       5612.0\n",
              "1       463.0                19.0  ...          1901.0       7650.0\n",
              "2       117.0                17.0  ...           174.0        720.0\n",
              "3       226.0                14.0  ...           337.0       1501.0\n",
              "4       262.0                20.0  ...           326.0       1454.0\n",
              "\n",
              "[5 rows x 9 columns]"
            ]
          },
          "metadata": {
            "tags": []
          },
          "execution_count": 33
        }
      ]
    },
    {
      "cell_type": "code",
      "metadata": {
        "id": "owoDvQ6EBQAA"
      },
      "source": [
        "from utilmy import pd_plot_histogram"
      ],
      "execution_count": 59,
      "outputs": []
    },
    {
      "cell_type": "code",
      "metadata": {
        "colab": {
          "base_uri": "https://localhost:8080/"
        },
        "id": "EBTmkvM-Bh0Q",
        "outputId": "f43621e9-5c91-4e3c-cf75-75c97dceb089"
      },
      "source": [
        "pd_plot_histogram(data_df['households'],path_save=\"/content/sample_data/hist.png\")"
      ],
      "execution_count": 53,
      "outputs": [
        {
          "output_type": "stream",
          "text": [
            "/content/sample_data/hist.png\n"
          ],
          "name": "stdout"
        }
      ]
    },
    {
      "cell_type": "code",
      "metadata": {
        "colab": {
          "base_uri": "https://localhost:8080/",
          "height": 561
        },
        "id": "N6I4-XGdFa4T",
        "outputId": "eaedaa06-8117-4458-e9f0-a017ed299b7d"
      },
      "source": [
        "from utilmy import test_plot_qqplot\n",
        "test_plot_qqplot(data_df, \"households\")"
      ],
      "execution_count": 81,
      "outputs": [
        {
          "output_type": "stream",
          "text": [
            "/usr/local/lib/python3.7/dist-packages/statsmodels/tools/_testing.py:19: FutureWarning: pandas.util.testing is deprecated. Use the functions in the public API at pandas.testing instead.\n",
            "  import pandas.util.testing as tm\n"
          ],
          "name": "stderr"
        },
        {
          "output_type": "stream",
          "text": [
            "count    17000.000000\n",
            "mean       501.221941\n",
            "std        384.520841\n",
            "min          1.000000\n",
            "25%        282.000000\n",
            "50%        409.000000\n",
            "75%        605.250000\n",
            "max       6082.000000\n",
            "Name: households, dtype: float64\n"
          ],
          "name": "stdout"
        },
        {
          "output_type": "display_data",
          "data": {
            "image/png": "[encoded data removed]",
            "text/plain": [
              "<Figure size 1296x360 with 3 Axes>"
            ]
          },
          "metadata": {
            "tags": [],
            "needs_background": "light"
          }
        }
      ]
    }
  ]
}